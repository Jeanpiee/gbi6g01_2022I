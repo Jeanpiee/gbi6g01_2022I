{
  "cells": [
    {
      "cell_type": "markdown",
      "metadata": {
        "id": "view-in-github",
        "colab_type": "text"
      },
      "source": [
        "<a href=\"https://colab.research.google.com/github/Jeanpiee/gbi6g01_2022I/blob/main/2021I_GBI6_ExamenParcial1.ipynb\" target=\"_parent\"><img src=\"https://colab.research.google.com/assets/colab-badge.svg\" alt=\"Open In Colab\"/></a>"
      ]
    },
    {
      "cell_type": "markdown",
      "metadata": {
        "id": "SoahgaZxdY9R"
      },
      "source": [
        "<img src=\"https://www.ikiam.edu.ec/img/logo-ikiam-grey.png\" width=300 height=240 />\n",
        "\n",
        "# EXAMEN PARCIAL 1\n",
        "\n",
        "## GBI6-2021II: BIOINFORMÁTICA\n",
        "\n",
        "**Apellidos, Nombres** <--- CAMBIE POR LOS QUE CORRESPONDA A SUS DATOS\n",
        "\n",
        "**11-01-2021**"
      ]
    },
    {
      "cell_type": "markdown",
      "metadata": {
        "id": "nSAn-qk5dY9h"
      },
      "source": [
        "<font color='red'>NO AGREGUE NUEVAS CELDAS, UTILICE ÚNICAMENTE LAS QUE ESTÁN CREADAS</font>"
      ]
    },
    {
      "cell_type": "markdown",
      "metadata": {
        "id": "k-jKf2wqdY9l"
      },
      "source": [
        "# 1. UNIX\n",
        "\n",
        "## Ejercicio 1\n",
        "Escriba aquì el enunciado\n",
        "\n",
        "Coloque aquí la captura de pantalla del ejercicio 1 (borre esta línea cuando finalice)\n",
        "\n",
        "<img src=\"data/ejemplo_unix.jpg\" width=600 height=450 />\n",
        "\n",
        "Escriba aquí alguna explicación del ejercicio 1 si lo considera necesario (borre esta línea cuando finalice)\n",
        "\n",
        "## Ejercicio 2\n",
        "Escriba aquì el enunciado\n",
        "\n",
        "Coloque aquí la captura de pantalla del ejercicio 2 (borre esta línea cuando finalice)\n",
        "\n",
        "<img src=\"data/ejemplo_unix.jpg\" width=600 height=450 />\n",
        "\n",
        "Escriba aquí alguna explicación del ejercicio 2 si lo considera necesario (borre esta línea cuando finalice)\n",
        "\n",
        "## Ejercicio 3\n",
        "Escriba aquí el enunciado\n",
        "\n",
        "Coloque aquí la captura de pantalla del ejercicio 3 (borre esta línea cuando finalice)\n",
        "\n",
        "<img src=\"data/ejemplo_unix.jpg\" width=600 height=450 />\n",
        "\n",
        "Escriba aquí alguna explicación del ejercicio 3 si lo considera necesario (borre esta línea cuando finalice)\n",
        "\n",
        "## Ejercicio 4\n",
        "Escriba aquí el enunciado\n"
      ]
    },
    {
      "cell_type": "code",
      "execution_count": null,
      "metadata": {
        "id": "9YvMXnTgdY9q",
        "outputId": "ea8b0bb9-5975-4c82-a6dc-76c64fd9c333"
      },
      "outputs": [
        {
          "data": {
            "text/html": [
              "<iframe width=\"560\" height=\"315\" src=\"https://www.youtube.com/embed/9ck5iEP03g4\" title=\"YouTube video player\" frameborder=\"0\" allow=\"accelerometer; autoplay; clipboard-write; encrypted-media; gyroscope; picture-in-picture\" allowfullscreen></iframe>"
            ],
            "text/plain": [
              "<IPython.core.display.HTML object>"
            ]
          },
          "execution_count": 7,
          "metadata": {},
          "output_type": "execute_result"
        }
      ],
      "source": [
        "# Coloque aquí su video del ejercicio 4\n",
        "from IPython.display import HTML\n",
        "HTML('<iframe width=\"560\" height=\"315\" src=\"https://www.youtube.com/embed/9ck5iEP03g4\" title=\"YouTube video player\" frameborder=\"0\" allow=\"accelerometer; autoplay; clipboard-write; encrypted-media; gyroscope; picture-in-picture\" allowfullscreen></iframe>')\n"
      ]
    },
    {
      "cell_type": "markdown",
      "metadata": {
        "id": "LODn28RQdY9y"
      },
      "source": [
        "Escriba aquí alguna explicación del ejercicio 4 si lo considera necesario (borre esta línea cuando finalice)\n",
        "\n",
        "## Ejercicio 5\n",
        "Escriba aquí el enunciado\n"
      ]
    },
    {
      "cell_type": "code",
      "execution_count": null,
      "metadata": {
        "id": "OqT1aC9fdY92",
        "outputId": "48c571e0-0bc8-425e-e0e0-10d4ad19286a"
      },
      "outputs": [
        {
          "data": {
            "text/html": [
              "<iframe width=\"560\" height=\"315\" src=\"https://www.youtube.com/embed/3XlZWpLwvvo\" title=\"YouTube video player\" frameborder=\"0\" allow=\"accelerometer; autoplay; clipboard-write; encrypted-media; gyroscope; picture-in-picture\" allowfullscreen></iframe>"
            ],
            "text/plain": [
              "<IPython.core.display.HTML object>"
            ]
          },
          "execution_count": 5,
          "metadata": {},
          "output_type": "execute_result"
        }
      ],
      "source": [
        "# Coloque aquí su video del ejercicio 5\n",
        "from IPython.display import HTML\n",
        "HTML('<iframe width=\"560\" height=\"315\" src=\"https://www.youtube.com/embed/3XlZWpLwvvo\" title=\"YouTube video player\" frameborder=\"0\" allow=\"accelerometer; autoplay; clipboard-write; encrypted-media; gyroscope; picture-in-picture\" allowfullscreen></iframe>')\n"
      ]
    },
    {
      "cell_type": "markdown",
      "metadata": {
        "jp-MarkdownHeadingCollapsed": true,
        "tags": [],
        "id": "fOfFFcKgdY95"
      },
      "source": [
        "Escriba aquí alguna explicación del ejercicio 5 si lo considera necesario (borre esta línea cuando finalice)\n",
        "\n",
        "# 2. CONTROL DE LA VERSIÓN\n",
        "## Pregunta 6\n",
        "1. Cree en GitHub un repositorio de nombre ```GBI6_ExamenParcial1```. \n",
        "2. Cree un archivo ```Readme.md``` que debe tener lo siguiente: \n",
        "- Datos personales\n",
        "- Características del computador\n",
        "- Programas utilizados\n",
        "- Explicación de la data utilizada\n",
        "\n",
        "\n",
        "## Pregunta 7\n",
        "1. Cada vez que resuelva un ejercicio (del 1 al 10), utilizando Git Bash, GitHub Desktop o Atom realice un *git push* con el mensaje: \n",
        "\n",
        "\n",
        "<font color='red'>Apellido Nombre ha resuelto el ejercicio 1</font> % Cambie con sus apellidos y nombres; y con el número de ejercicio que corresponda \n",
        "\n",
        "2. Coloque aquí las capturas de pantalla para cada git push realizado desde Git Bash, GitHub Desktop o Atom. \n",
        "\n",
        "- Control de versión ejercicio 1\n",
        "\n",
        "<img src=\"data/ejemplo_unix.jpg\" width=600 height=450 />\n",
        "\n",
        "- Control de versión ejercicio 2\n",
        "\n",
        "<img src=\"data/ejemplo_unix.jpg\" width=600 height=450 />\n",
        "\n",
        "- Control de versión ejercicio 3\n",
        "\n",
        "<img src=\"data/ejemplo_unix.jpg\" width=600 height=450 />\n",
        "\n",
        "- Control de versión ejercicio 4\n",
        "\n",
        "<img src=\"data/ejemplo_unix.jpg\" width=600 height=450 />\n",
        "\n",
        "- Control de versión ejercicio 5\n",
        "\n",
        "<img src=\"data/ejemplo_unix.jpg\" width=600 height=450 />\n",
        "\n",
        "- Control de versión ejercicio 8\n",
        "\n",
        "<img src=\"data/ejemplo_unix.jpg\" width=600 height=450 />\n",
        "\n",
        "- Control de versión ejercicio 9\n",
        "\n",
        "<img src=\"data/ejemplo_unix.jpg\" width=600 height=450 />\n",
        "\n",
        "- Control de versión ejercicio 10\n",
        "\n",
        "<img src=\"data/ejemplo_unix.jpg\" width=600 height=450 />\n",
        "\n",
        "\n",
        "3. Cree un directorio de nombre ```data``` donde deben estar guardados: (i) la data utilizada y (ii) las capturas de pantalla de los ejercicios 1 al 3 y los git push del ejercicio 1 al 10 (en total debe tener 13 imágenes). \n",
        "4. Inserte aquí el enlace de su repositorio (válido para el ejercicio 6 y 7): [GitHub Repository: GBI6_ExamenParcial1](https://github.com/gualapuromoises/2021_gbi6.git) (este enlace es de ejemplo)"
      ]
    },
    {
      "cell_type": "markdown",
      "metadata": {
        "id": "t8LEatUYdY99"
      },
      "source": [
        "# 3. INTRODUCCIÓN A PYTHON\n",
        "\n",
        "## Ejercicio 8\n",
        "\n",
        "Escriba aquí el enunciado"
      ]
    },
    {
      "cell_type": "code",
      "execution_count": null,
      "metadata": {
        "id": "QmxbWJ3DdY-A"
      },
      "outputs": [],
      "source": [
        "# Escriba aquí el código\n"
      ]
    },
    {
      "cell_type": "markdown",
      "metadata": {
        "id": "frgfumvgdY-D"
      },
      "source": [
        "## Ejercicio 9\n",
        "\n",
        "Escriba aquí el enunciado"
      ]
    },
    {
      "cell_type": "code",
      "execution_count": null,
      "metadata": {
        "id": "CijwmQ21dY-G"
      },
      "outputs": [],
      "source": [
        "# Escriba aquí el código\n"
      ]
    },
    {
      "cell_type": "markdown",
      "metadata": {
        "id": "kZsHv8lddY-I"
      },
      "source": [
        "## Ejercicio 10\n",
        "\n",
        "Escriba aquí el enunciado"
      ]
    },
    {
      "cell_type": "code",
      "execution_count": null,
      "metadata": {
        "id": "ouEf87SJdY-K"
      },
      "outputs": [],
      "source": [
        "# Escriba aquí el código"
      ]
    }
  ],
  "metadata": {
    "kernelspec": {
      "display_name": "Python 3 (ipykernel)",
      "language": "python",
      "name": "python3"
    },
    "language_info": {
      "codemirror_mode": {
        "name": "ipython",
        "version": 3
      },
      "file_extension": ".py",
      "mimetype": "text/x-python",
      "name": "python",
      "nbconvert_exporter": "python",
      "pygments_lexer": "ipython3",
      "version": "3.9.7"
    },
    "latex_envs": {
      "LaTeX_envs_menu_present": true,
      "autoclose": false,
      "autocomplete": true,
      "bibliofile": "biblio.bib",
      "cite_by": "apalike",
      "current_citInitial": 1,
      "eqLabelWithNumbers": true,
      "eqNumInitial": 1,
      "hotkeys": {
        "equation": "Ctrl-E",
        "itemize": "Ctrl-I"
      },
      "labels_anchors": false,
      "latex_user_defs": false,
      "report_style_numbering": false,
      "user_envs_cfg": false
    },
    "toc": {
      "base_numbering": 1,
      "nav_menu": {},
      "number_sections": true,
      "sideBar": false,
      "skip_h1_title": false,
      "title_cell": "Table of Contents",
      "title_sidebar": "Contents",
      "toc_cell": false,
      "toc_position": {
        "height": "1152.67px",
        "left": "41px",
        "top": "110px",
        "width": "253.458px"
      },
      "toc_section_display": true,
      "toc_window_display": false
    },
    "varInspector": {
      "cols": {
        "lenName": 16,
        "lenType": 16,
        "lenVar": 40
      },
      "kernels_config": {
        "python": {
          "delete_cmd_postfix": "",
          "delete_cmd_prefix": "del ",
          "library": "var_list.py",
          "varRefreshCmd": "print(var_dic_list())"
        },
        "r": {
          "delete_cmd_postfix": ") ",
          "delete_cmd_prefix": "rm(",
          "library": "var_list.r",
          "varRefreshCmd": "cat(var_dic_list()) "
        }
      },
      "types_to_exclude": [
        "module",
        "function",
        "builtin_function_or_method",
        "instance",
        "_Feature"
      ],
      "window_display": false
    },
    "colab": {
      "name": "2021I_GBI6_ExamenParcial1.ipynb",
      "provenance": [],
      "include_colab_link": true
    }
  },
  "nbformat": 4,
  "nbformat_minor": 0
}